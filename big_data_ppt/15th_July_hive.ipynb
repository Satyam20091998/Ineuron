{
 "cells": [
  {
   "cell_type": "markdown",
   "metadata": {},
   "source": [
    "1.  Write a Python program that uses the HiveQL language to create a table named \"Employees\" with columns for \"id,\" \"name,\" and \"salary.\"\n",
    "2.  Create a Python program that retrieves records from a Hive table named \"Customers\" where the age is greater than 30.\n",
    "3.  Write a Python script that sorts records in descending order based on the \"timestamp\" column in a Hive table named \"Logs.\"\n",
    "4.  Write a Python program that connects to a Hive server using PyHive library and retrieves all records from a table named \"Products\".\n",
    "5.  Write a Python script that calculates the average salary of employees from a Hive table named \"Employees\".\n",
    "6.  Implement a Python program that uses Hive partitioning to create a partitioned table named \"Sales_Data\" based on the \"year\" and \"month\" columns.\n",
    "7.  Develop a Python script that adds a new column named \"email\" of type string to an existing Hive table named \"Employees.\"\n",
    "8.  Create a Python program that performs an inner join between two Hive tables, \"Orders\" and \"Customers,\" based on a common column.\n",
    "9.  Implement a Python program that uses the Hive SerDe library to process JSON data stored in a Hive table named \"User_Activity_Logs.\"\n"
   ]
  },
  {
   "cell_type": "code",
   "execution_count": null,
   "metadata": {},
   "outputs": [],
   "source": [
    "from pyhive import hive\n",
    "\n",
    "connection = hive.Connection(host='localhost', port=10000, username='your_username')\n",
    "\n",
    "cursor = connection.cursor()\n",
    "cursor.execute(\"CREATE TABLE Employees (id INT, name STRING, salary FLOAT)\")\n"
   ]
  },
  {
   "cell_type": "code",
   "execution_count": null,
   "metadata": {},
   "outputs": [],
   "source": [
    "from pyhive import hive\n",
    "\n",
    "connection = hive.Connection(host='localhost', port=10000, username='your_username')\n",
    "\n",
    "cursor = connection.cursor()\n",
    "cursor.execute(\"SELECT * FROM Customers WHERE age > 30\")\n",
    "\n",
    "for row in cursor.fetchall():\n",
    "    print(row)\n"
   ]
  },
  {
   "cell_type": "code",
   "execution_count": null,
   "metadata": {},
   "outputs": [],
   "source": [
    "from pyhive import hive\n",
    "\n",
    "connection = hive.Connection(host='localhost', port=10000, username='your_username')\n",
    "\n",
    "cursor = connection.cursor()\n",
    "cursor.execute(\"SELECT * FROM Logs ORDER BY timestamp DESC\")\n",
    "\n",
    "for row in cursor.fetchall():\n",
    "    print(row)\n"
   ]
  },
  {
   "cell_type": "code",
   "execution_count": null,
   "metadata": {},
   "outputs": [],
   "source": [
    "from pyhive import hive\n",
    "\n",
    "connection = hive.Connection(host='localhost', port=10000, username='your_username')\n",
    "\n",
    "cursor = connection.cursor()\n",
    "cursor.execute(\"SELECT * FROM Products\")\n",
    "\n",
    "for row in cursor.fetchall():\n",
    "    print(row)\n"
   ]
  },
  {
   "cell_type": "code",
   "execution_count": null,
   "metadata": {},
   "outputs": [],
   "source": [
    "from pyhive import hive\n",
    "\n",
    "connection = hive.Connection(host='localhost', port=10000, username='your_username')\n",
    "\n",
    "cursor = connection.cursor()\n",
    "cursor.execute(\"SELECT AVG(salary) FROM Employees\")\n",
    "\n",
    "result = cursor.fetchone()[0]\n",
    "print(\"Average salary:\", result)\n"
   ]
  },
  {
   "cell_type": "code",
   "execution_count": null,
   "metadata": {},
   "outputs": [],
   "source": [
    "from pyhive import hive\n",
    "\n",
    "connection = hive.Connection(host='localhost', port=10000, username='your_username')\n",
    "\n",
    "cursor = connection.cursor()\n",
    "cursor.execute(\"CREATE TABLE Sales_Data (data STRING) PARTITIONED BY (year INT, month INT)\")\n",
    "\n",
    "# Insert data into partitions using INSERT statements\n"
   ]
  },
  {
   "cell_type": "code",
   "execution_count": null,
   "metadata": {},
   "outputs": [],
   "source": [
    "from pyhive import hive\n",
    "\n",
    "connection = hive.Connection(host='localhost', port=10000, username='your_username')\n",
    "\n",
    "cursor = connection.cursor()\n",
    "cursor.execute(\"ALTER TABLE Employees ADD COLUMNS (email STRING)\")\n"
   ]
  },
  {
   "cell_type": "code",
   "execution_count": null,
   "metadata": {},
   "outputs": [],
   "source": [
    "from pyhive import hive\n",
    "\n",
    "connection = hive.Connection(host='localhost', port=10000, username='your_username')\n",
    "\n",
    "cursor = connection.cursor()\n",
    "cursor.execute(\"SELECT * FROM Orders INNER JOIN Customers ON Orders.customer_id = Customers.customer_id\")\n",
    "\n",
    "for row in cursor.fetchall():\n",
    "    print(row)\n"
   ]
  },
  {
   "cell_type": "code",
   "execution_count": null,
   "metadata": {},
   "outputs": [],
   "source": [
    "from pyhive import hive\n",
    "\n",
    "connection = hive.Connection(host='localhost', port=10000, username='your_username')\n",
    "\n",
    "cursor = connection.cursor()\n",
    "cursor.execute(\"SELECT * FROM User_Activity_Logs\")\n",
    "\n",
    "for row in cursor.fetchall():\n",
    "    print(row)\n"
   ]
  }
 ],
 "metadata": {
  "language_info": {
   "name": "python"
  },
  "orig_nbformat": 4
 },
 "nbformat": 4,
 "nbformat_minor": 2
}
